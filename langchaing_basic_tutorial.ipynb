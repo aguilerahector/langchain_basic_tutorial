{
 "cells": [
  {
   "cell_type": "code",
   "execution_count": null,
   "id": "f3a02686-6b3d-4e38-93f7-1fdd2552679c",
   "metadata": {},
   "outputs": [],
   "source": [
    "pip install langchain"
   ]
  }
 ],
 "metadata": {
  "kernelspec": {
   "display_name": "test_env",
   "language": "python",
   "name": "test_env"
  },
  "language_info": {
   "codemirror_mode": {
    "name": "ipython",
    "version": 3
   },
   "file_extension": ".py",
   "mimetype": "text/x-python",
   "name": "python",
   "nbconvert_exporter": "python",
   "pygments_lexer": "ipython3",
   "version": "3.9.18"
  }
 },
 "nbformat": 4,
 "nbformat_minor": 5
}
